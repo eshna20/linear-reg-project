{
 "cells": [
  {
   "cell_type": "code",
   "execution_count": 1,
   "metadata": {},
   "outputs": [],
   "source": [
    "import numpy as np;\n",
    "import pandas as pd;\n",
    "import matplotlib.pyplot as plt;\n",
    "%matplotlib inline"
   ]
  },
  {
   "cell_type": "code",
   "execution_count": null,
   "metadata": {},
   "outputs": [],
   "source": []
  },
  {
   "cell_type": "code",
   "execution_count": 3,
   "metadata": {},
   "outputs": [
    {
     "name": "stdout",
     "output_type": "stream",
     "text": [
      "         crim    zn  indus  chas    nox     rm    age     dis  rad  tax  \\\n",
      "0     0.00632  18.0   2.31     0  0.538  6.575   65.2  4.0900    1  296   \n",
      "1     0.02731   0.0   7.07     0  0.469  6.421   78.9  4.9671    2  242   \n",
      "2     0.02729   0.0   7.07     0  0.469  7.185   61.1  4.9671    2  242   \n",
      "3     0.03237   0.0   2.18     0  0.458  6.998   45.8  6.0622    3  222   \n",
      "4     0.06905   0.0   2.18     0  0.458  7.147   54.2  6.0622    3  222   \n",
      "5     0.02985   0.0   2.18     0  0.458  6.430   58.7  6.0622    3  222   \n",
      "6     0.08829  12.5   7.87     0  0.524  6.012   66.6  5.5605    5  311   \n",
      "7     0.14455  12.5   7.87     0  0.524  6.172   96.1  5.9505    5  311   \n",
      "8     0.21124  12.5   7.87     0  0.524  5.631  100.0  6.0821    5  311   \n",
      "9     0.17004  12.5   7.87     0  0.524  6.004   85.9  6.5921    5  311   \n",
      "10    0.22489  12.5   7.87     0  0.524  6.377   94.3  6.3467    5  311   \n",
      "11    0.11747  12.5   7.87     0  0.524  6.009   82.9  6.2267    5  311   \n",
      "12    0.09378  12.5   7.87     0  0.524  5.889   39.0  5.4509    5  311   \n",
      "13    0.62976   0.0   8.14     0  0.538  5.949   61.8  4.7075    4  307   \n",
      "14    0.63796   0.0   8.14     0  0.538  6.096   84.5  4.4619    4  307   \n",
      "15    0.62739   0.0   8.14     0  0.538  5.834   56.5  4.4986    4  307   \n",
      "16    1.05393   0.0   8.14     0  0.538  5.935   29.3  4.4986    4  307   \n",
      "17    0.78420   0.0   8.14     0  0.538  5.990   81.7  4.2579    4  307   \n",
      "18    0.80271   0.0   8.14     0  0.538  5.456   36.6  3.7965    4  307   \n",
      "19    0.72580   0.0   8.14     0  0.538  5.727   69.5  3.7965    4  307   \n",
      "20    1.25179   0.0   8.14     0  0.538  5.570   98.1  3.7979    4  307   \n",
      "21    0.85204   0.0   8.14     0  0.538  5.965   89.2  4.0123    4  307   \n",
      "22    1.23247   0.0   8.14     0  0.538  6.142   91.7  3.9769    4  307   \n",
      "23    0.98843   0.0   8.14     0  0.538  5.813  100.0  4.0952    4  307   \n",
      "24    0.75026   0.0   8.14     0  0.538  5.924   94.1  4.3996    4  307   \n",
      "25    0.84054   0.0   8.14     0  0.538  5.599   85.7  4.4546    4  307   \n",
      "26    0.67191   0.0   8.14     0  0.538  5.813   90.3  4.6820    4  307   \n",
      "27    0.95577   0.0   8.14     0  0.538  6.047   88.8  4.4534    4  307   \n",
      "28    0.77299   0.0   8.14     0  0.538  6.495   94.4  4.4547    4  307   \n",
      "29    1.00245   0.0   8.14     0  0.538  6.674   87.3  4.2390    4  307   \n",
      "..        ...   ...    ...   ...    ...    ...    ...     ...  ...  ...   \n",
      "476   4.87141   0.0  18.10     0  0.614  6.484   93.6  2.3053   24  666   \n",
      "477  15.02340   0.0  18.10     0  0.614  5.304   97.3  2.1007   24  666   \n",
      "478  10.23300   0.0  18.10     0  0.614  6.185   96.7  2.1705   24  666   \n",
      "479  14.33370   0.0  18.10     0  0.614  6.229   88.0  1.9512   24  666   \n",
      "480   5.82401   0.0  18.10     0  0.532  6.242   64.7  3.4242   24  666   \n",
      "481   5.70818   0.0  18.10     0  0.532  6.750   74.9  3.3317   24  666   \n",
      "482   5.73116   0.0  18.10     0  0.532  7.061   77.0  3.4106   24  666   \n",
      "483   2.81838   0.0  18.10     0  0.532  5.762   40.3  4.0983   24  666   \n",
      "484   2.37857   0.0  18.10     0  0.583  5.871   41.9  3.7240   24  666   \n",
      "485   3.67367   0.0  18.10     0  0.583  6.312   51.9  3.9917   24  666   \n",
      "486   5.69175   0.0  18.10     0  0.583  6.114   79.8  3.5459   24  666   \n",
      "487   4.83567   0.0  18.10     0  0.583  5.905   53.2  3.1523   24  666   \n",
      "488   0.15086   0.0  27.74     0  0.609  5.454   92.7  1.8209    4  711   \n",
      "489   0.18337   0.0  27.74     0  0.609  5.414   98.3  1.7554    4  711   \n",
      "490   0.20746   0.0  27.74     0  0.609  5.093   98.0  1.8226    4  711   \n",
      "491   0.10574   0.0  27.74     0  0.609  5.983   98.8  1.8681    4  711   \n",
      "492   0.11132   0.0  27.74     0  0.609  5.983   83.5  2.1099    4  711   \n",
      "493   0.17331   0.0   9.69     0  0.585  5.707   54.0  2.3817    6  391   \n",
      "494   0.27957   0.0   9.69     0  0.585  5.926   42.6  2.3817    6  391   \n",
      "495   0.17899   0.0   9.69     0  0.585  5.670   28.8  2.7986    6  391   \n",
      "496   0.28960   0.0   9.69     0  0.585  5.390   72.9  2.7986    6  391   \n",
      "497   0.26838   0.0   9.69     0  0.585  5.794   70.6  2.8927    6  391   \n",
      "498   0.23912   0.0   9.69     0  0.585  6.019   65.3  2.4091    6  391   \n",
      "499   0.17783   0.0   9.69     0  0.585  5.569   73.5  2.3999    6  391   \n",
      "500   0.22438   0.0   9.69     0  0.585  6.027   79.7  2.4982    6  391   \n",
      "501   0.06263   0.0  11.93     0  0.573  6.593   69.1  2.4786    1  273   \n",
      "502   0.04527   0.0  11.93     0  0.573  6.120   76.7  2.2875    1  273   \n",
      "503   0.06076   0.0  11.93     0  0.573  6.976   91.0  2.1675    1  273   \n",
      "504   0.10959   0.0  11.93     0  0.573  6.794   89.3  2.3889    1  273   \n",
      "505   0.04741   0.0  11.93     0  0.573  6.030   80.8  2.5050    1  273   \n",
      "\n",
      "     ptratio       b  lstat  medv  \n",
      "0       15.3  396.90   4.98  24.0  \n",
      "1       17.8  396.90   9.14  21.6  \n",
      "2       17.8  392.83   4.03  34.7  \n",
      "3       18.7  394.63   2.94  33.4  \n",
      "4       18.7  396.90   5.33  36.2  \n",
      "5       18.7  394.12   5.21  28.7  \n",
      "6       15.2  395.60  12.43  22.9  \n",
      "7       15.2  396.90  19.15  27.1  \n",
      "8       15.2  386.63  29.93  16.5  \n",
      "9       15.2  386.71  17.10  18.9  \n",
      "10      15.2  392.52  20.45  15.0  \n",
      "11      15.2  396.90  13.27  18.9  \n",
      "12      15.2  390.50  15.71  21.7  \n",
      "13      21.0  396.90   8.26  20.4  \n",
      "14      21.0  380.02  10.26  18.2  \n",
      "15      21.0  395.62   8.47  19.9  \n",
      "16      21.0  386.85   6.58  23.1  \n",
      "17      21.0  386.75  14.67  17.5  \n",
      "18      21.0  288.99  11.69  20.2  \n",
      "19      21.0  390.95  11.28  18.2  \n",
      "20      21.0  376.57  21.02  13.6  \n",
      "21      21.0  392.53  13.83  19.6  \n",
      "22      21.0  396.90  18.72  15.2  \n",
      "23      21.0  394.54  19.88  14.5  \n",
      "24      21.0  394.33  16.30  15.6  \n",
      "25      21.0  303.42  16.51  13.9  \n",
      "26      21.0  376.88  14.81  16.6  \n",
      "27      21.0  306.38  17.28  14.8  \n",
      "28      21.0  387.94  12.80  18.4  \n",
      "29      21.0  380.23  11.98  21.0  \n",
      "..       ...     ...    ...   ...  \n",
      "476     20.2  396.21  18.68  16.7  \n",
      "477     20.2  349.48  24.91  12.0  \n",
      "478     20.2  379.70  18.03  14.6  \n",
      "479     20.2  383.32  13.11  21.4  \n",
      "480     20.2  396.90  10.74  23.0  \n",
      "481     20.2  393.07   7.74  23.7  \n",
      "482     20.2  395.28   7.01  25.0  \n",
      "483     20.2  392.92  10.42  21.8  \n",
      "484     20.2  370.73  13.34  20.6  \n",
      "485     20.2  388.62  10.58  21.2  \n",
      "486     20.2  392.68  14.98  19.1  \n",
      "487     20.2  388.22  11.45  20.6  \n",
      "488     20.1  395.09  18.06  15.2  \n",
      "489     20.1  344.05  23.97   7.0  \n",
      "490     20.1  318.43  29.68   8.1  \n",
      "491     20.1  390.11  18.07  13.6  \n",
      "492     20.1  396.90  13.35  20.1  \n",
      "493     19.2  396.90  12.01  21.8  \n",
      "494     19.2  396.90  13.59  24.5  \n",
      "495     19.2  393.29  17.60  23.1  \n",
      "496     19.2  396.90  21.14  19.7  \n",
      "497     19.2  396.90  14.10  18.3  \n",
      "498     19.2  396.90  12.92  21.2  \n",
      "499     19.2  395.77  15.10  17.5  \n",
      "500     19.2  396.90  14.33  16.8  \n",
      "501     21.0  391.99   9.67  22.4  \n",
      "502     21.0  396.90   9.08  20.6  \n",
      "503     21.0  396.90   5.64  23.9  \n",
      "504     21.0  393.45   6.48  22.0  \n",
      "505     21.0  396.90   7.88  11.9  \n",
      "\n",
      "[506 rows x 14 columns]\n"
     ]
    }
   ],
   "source": [
    "bos1 = pd.read_csv(r'C:\\Users\\user\\Desktop\\ml\\linear reg project\\BostonHousing.csv')\n",
    "print(bos1)"
   ]
  },
  {
   "cell_type": "code",
   "execution_count": 4,
   "metadata": {},
   "outputs": [],
   "source": [
    "x = bos1.iloc[:,0:13]\n",
    "y = bos1['medv']"
   ]
  },
  {
   "cell_type": "code",
   "execution_count": 5,
   "metadata": {},
   "outputs": [
    {
     "data": {
      "text/html": [
       "<div>\n",
       "<style scoped>\n",
       "    .dataframe tbody tr th:only-of-type {\n",
       "        vertical-align: middle;\n",
       "    }\n",
       "\n",
       "    .dataframe tbody tr th {\n",
       "        vertical-align: top;\n",
       "    }\n",
       "\n",
       "    .dataframe thead th {\n",
       "        text-align: right;\n",
       "    }\n",
       "</style>\n",
       "<table border=\"1\" class=\"dataframe\">\n",
       "  <thead>\n",
       "    <tr style=\"text-align: right;\">\n",
       "      <th></th>\n",
       "      <th>crim</th>\n",
       "      <th>zn</th>\n",
       "      <th>indus</th>\n",
       "      <th>chas</th>\n",
       "      <th>nox</th>\n",
       "      <th>rm</th>\n",
       "      <th>age</th>\n",
       "      <th>dis</th>\n",
       "      <th>rad</th>\n",
       "      <th>tax</th>\n",
       "      <th>ptratio</th>\n",
       "      <th>b</th>\n",
       "      <th>lstat</th>\n",
       "    </tr>\n",
       "  </thead>\n",
       "  <tbody>\n",
       "    <tr>\n",
       "      <th>0</th>\n",
       "      <td>0.00632</td>\n",
       "      <td>18.0</td>\n",
       "      <td>2.31</td>\n",
       "      <td>0</td>\n",
       "      <td>0.538</td>\n",
       "      <td>6.575</td>\n",
       "      <td>65.2</td>\n",
       "      <td>4.0900</td>\n",
       "      <td>1</td>\n",
       "      <td>296</td>\n",
       "      <td>15.3</td>\n",
       "      <td>396.90</td>\n",
       "      <td>4.98</td>\n",
       "    </tr>\n",
       "    <tr>\n",
       "      <th>1</th>\n",
       "      <td>0.02731</td>\n",
       "      <td>0.0</td>\n",
       "      <td>7.07</td>\n",
       "      <td>0</td>\n",
       "      <td>0.469</td>\n",
       "      <td>6.421</td>\n",
       "      <td>78.9</td>\n",
       "      <td>4.9671</td>\n",
       "      <td>2</td>\n",
       "      <td>242</td>\n",
       "      <td>17.8</td>\n",
       "      <td>396.90</td>\n",
       "      <td>9.14</td>\n",
       "    </tr>\n",
       "    <tr>\n",
       "      <th>2</th>\n",
       "      <td>0.02729</td>\n",
       "      <td>0.0</td>\n",
       "      <td>7.07</td>\n",
       "      <td>0</td>\n",
       "      <td>0.469</td>\n",
       "      <td>7.185</td>\n",
       "      <td>61.1</td>\n",
       "      <td>4.9671</td>\n",
       "      <td>2</td>\n",
       "      <td>242</td>\n",
       "      <td>17.8</td>\n",
       "      <td>392.83</td>\n",
       "      <td>4.03</td>\n",
       "    </tr>\n",
       "    <tr>\n",
       "      <th>3</th>\n",
       "      <td>0.03237</td>\n",
       "      <td>0.0</td>\n",
       "      <td>2.18</td>\n",
       "      <td>0</td>\n",
       "      <td>0.458</td>\n",
       "      <td>6.998</td>\n",
       "      <td>45.8</td>\n",
       "      <td>6.0622</td>\n",
       "      <td>3</td>\n",
       "      <td>222</td>\n",
       "      <td>18.7</td>\n",
       "      <td>394.63</td>\n",
       "      <td>2.94</td>\n",
       "    </tr>\n",
       "    <tr>\n",
       "      <th>4</th>\n",
       "      <td>0.06905</td>\n",
       "      <td>0.0</td>\n",
       "      <td>2.18</td>\n",
       "      <td>0</td>\n",
       "      <td>0.458</td>\n",
       "      <td>7.147</td>\n",
       "      <td>54.2</td>\n",
       "      <td>6.0622</td>\n",
       "      <td>3</td>\n",
       "      <td>222</td>\n",
       "      <td>18.7</td>\n",
       "      <td>396.90</td>\n",
       "      <td>5.33</td>\n",
       "    </tr>\n",
       "  </tbody>\n",
       "</table>\n",
       "</div>"
      ],
      "text/plain": [
       "      crim    zn  indus  chas    nox     rm   age     dis  rad  tax  ptratio  \\\n",
       "0  0.00632  18.0   2.31     0  0.538  6.575  65.2  4.0900    1  296     15.3   \n",
       "1  0.02731   0.0   7.07     0  0.469  6.421  78.9  4.9671    2  242     17.8   \n",
       "2  0.02729   0.0   7.07     0  0.469  7.185  61.1  4.9671    2  242     17.8   \n",
       "3  0.03237   0.0   2.18     0  0.458  6.998  45.8  6.0622    3  222     18.7   \n",
       "4  0.06905   0.0   2.18     0  0.458  7.147  54.2  6.0622    3  222     18.7   \n",
       "\n",
       "        b  lstat  \n",
       "0  396.90   4.98  \n",
       "1  396.90   9.14  \n",
       "2  392.83   4.03  \n",
       "3  394.63   2.94  \n",
       "4  396.90   5.33  "
      ]
     },
     "execution_count": 5,
     "metadata": {},
     "output_type": "execute_result"
    }
   ],
   "source": [
    "x.head()"
   ]
  },
  {
   "cell_type": "code",
   "execution_count": 6,
   "metadata": {},
   "outputs": [
    {
     "data": {
      "text/plain": [
       "0    24.0\n",
       "1    21.6\n",
       "2    34.7\n",
       "3    33.4\n",
       "4    36.2\n",
       "Name: medv, dtype: float64"
      ]
     },
     "execution_count": 6,
     "metadata": {},
     "output_type": "execute_result"
    }
   ],
   "source": [
    "y.head()"
   ]
  },
  {
   "cell_type": "markdown",
   "metadata": {},
   "source": []
  },
  {
   "cell_type": "code",
   "execution_count": 7,
   "metadata": {},
   "outputs": [
    {
     "data": {
      "image/png": "[encoded data removed]",
      "text/plain": [
       "<Figure size 432x288 with 2 Axes>"
      ]
     },
     "metadata": {},
     "output_type": "display_data"
    }
   ],
   "source": [
    "import seaborn as sns\n",
    "names= []\n",
    "correlation= bos1.corr()\n",
    "sns.heatmap(correlation,square = True , cmap =\"YlGnBu\")\n",
    "plt.yticks(rotation=0)\n",
    "plt.xticks(rotation=90)\n",
    "plt.show()"
   ]
  },
  {
   "cell_type": "code",
   "execution_count": 8,
   "metadata": {},
   "outputs": [
    {
     "data": {
      "text/html": [
       "<div>\n",
       "<style scoped>\n",
       "    .dataframe tbody tr th:only-of-type {\n",
       "        vertical-align: middle;\n",
       "    }\n",
       "\n",
       "    .dataframe tbody tr th {\n",
       "        vertical-align: top;\n",
       "    }\n",
       "\n",
       "    .dataframe thead th {\n",
       "        text-align: right;\n",
       "    }\n",
       "</style>\n",
       "<table border=\"1\" class=\"dataframe\">\n",
       "  <thead>\n",
       "    <tr style=\"text-align: right;\">\n",
       "      <th></th>\n",
       "      <th>crim</th>\n",
       "      <th>zn</th>\n",
       "      <th>indus</th>\n",
       "      <th>chas</th>\n",
       "      <th>nox</th>\n",
       "      <th>rm</th>\n",
       "      <th>age</th>\n",
       "      <th>dis</th>\n",
       "      <th>rad</th>\n",
       "      <th>tax</th>\n",
       "      <th>ptratio</th>\n",
       "      <th>b</th>\n",
       "      <th>lstat</th>\n",
       "      <th>medv</th>\n",
       "    </tr>\n",
       "  </thead>\n",
       "  <tbody>\n",
       "    <tr>\n",
       "      <th>crim</th>\n",
       "      <td>1.000000</td>\n",
       "      <td>-0.200469</td>\n",
       "      <td>0.406583</td>\n",
       "      <td>-0.055892</td>\n",
       "      <td>0.420972</td>\n",
       "      <td>-0.219247</td>\n",
       "      <td>0.352734</td>\n",
       "      <td>-0.379670</td>\n",
       "      <td>0.625505</td>\n",
       "      <td>0.582764</td>\n",
       "      <td>0.289946</td>\n",
       "      <td>-0.385064</td>\n",
       "      <td>0.455621</td>\n",
       "      <td>-0.388305</td>\n",
       "    </tr>\n",
       "    <tr>\n",
       "      <th>zn</th>\n",
       "      <td>-0.200469</td>\n",
       "      <td>1.000000</td>\n",
       "      <td>-0.533828</td>\n",
       "      <td>-0.042697</td>\n",
       "      <td>-0.516604</td>\n",
       "      <td>0.311991</td>\n",
       "      <td>-0.569537</td>\n",
       "      <td>0.664408</td>\n",
       "      <td>-0.311948</td>\n",
       "      <td>-0.314563</td>\n",
       "      <td>-0.391679</td>\n",
       "      <td>0.175520</td>\n",
       "      <td>-0.412995</td>\n",
       "      <td>0.360445</td>\n",
       "    </tr>\n",
       "    <tr>\n",
       "      <th>indus</th>\n",
       "      <td>0.406583</td>\n",
       "      <td>-0.533828</td>\n",
       "      <td>1.000000</td>\n",
       "      <td>0.062938</td>\n",
       "      <td>0.763651</td>\n",
       "      <td>-0.391676</td>\n",
       "      <td>0.644779</td>\n",
       "      <td>-0.708027</td>\n",
       "      <td>0.595129</td>\n",
       "      <td>0.720760</td>\n",
       "      <td>0.383248</td>\n",
       "      <td>-0.356977</td>\n",
       "      <td>0.603800</td>\n",
       "      <td>-0.483725</td>\n",
       "    </tr>\n",
       "    <tr>\n",
       "      <th>chas</th>\n",
       "      <td>-0.055892</td>\n",
       "      <td>-0.042697</td>\n",
       "      <td>0.062938</td>\n",
       "      <td>1.000000</td>\n",
       "      <td>0.091203</td>\n",
       "      <td>0.091251</td>\n",
       "      <td>0.086518</td>\n",
       "      <td>-0.099176</td>\n",
       "      <td>-0.007368</td>\n",
       "      <td>-0.035587</td>\n",
       "      <td>-0.121515</td>\n",
       "      <td>0.048788</td>\n",
       "      <td>-0.053929</td>\n",
       "      <td>0.175260</td>\n",
       "    </tr>\n",
       "    <tr>\n",
       "      <th>nox</th>\n",
       "      <td>0.420972</td>\n",
       "      <td>-0.516604</td>\n",
       "      <td>0.763651</td>\n",
       "      <td>0.091203</td>\n",
       "      <td>1.000000</td>\n",
       "      <td>-0.302188</td>\n",
       "      <td>0.731470</td>\n",
       "      <td>-0.769230</td>\n",
       "      <td>0.611441</td>\n",
       "      <td>0.668023</td>\n",
       "      <td>0.188933</td>\n",
       "      <td>-0.380051</td>\n",
       "      <td>0.590879</td>\n",
       "      <td>-0.427321</td>\n",
       "    </tr>\n",
       "  </tbody>\n",
       "</table>\n",
       "</div>"
      ],
      "text/plain": [
       "           crim        zn     indus      chas       nox        rm       age  \\\n",
       "crim   1.000000 -0.200469  0.406583 -0.055892  0.420972 -0.219247  0.352734   \n",
       "zn    -0.200469  1.000000 -0.533828 -0.042697 -0.516604  0.311991 -0.569537   \n",
       "indus  0.406583 -0.533828  1.000000  0.062938  0.763651 -0.391676  0.644779   \n",
       "chas  -0.055892 -0.042697  0.062938  1.000000  0.091203  0.091251  0.086518   \n",
       "nox    0.420972 -0.516604  0.763651  0.091203  1.000000 -0.302188  0.731470   \n",
       "\n",
       "            dis       rad       tax   ptratio         b     lstat      medv  \n",
       "crim  -0.379670  0.625505  0.582764  0.289946 -0.385064  0.455621 -0.388305  \n",
       "zn     0.664408 -0.311948 -0.314563 -0.391679  0.175520 -0.412995  0.360445  \n",
       "indus -0.708027  0.595129  0.720760  0.383248 -0.356977  0.603800 -0.483725  \n",
       "chas  -0.099176 -0.007368 -0.035587 -0.121515  0.048788 -0.053929  0.175260  \n",
       "nox   -0.769230  0.611441  0.668023  0.188933 -0.380051  0.590879 -0.427321  "
      ]
     },
     "execution_count": 8,
     "metadata": {},
     "output_type": "execute_result"
    }
   ],
   "source": [
    "correlation.head()"
   ]
  },
  {
   "cell_type": "code",
   "execution_count": 24,
   "metadata": {},
   "outputs": [],
   "source": [
    "#splitting train test data\n",
    "from sklearn.cross_validation import train_test_split\n",
    "x_train, x_test, y_train, y_test =train_test_split(x,y, test_size = 0.00197, random_state=5) "
   ]
  },
  {
   "cell_type": "raw",
   "metadata": {},
   "source": []
  },
  {
   "cell_type": "code",
   "execution_count": 25,
   "metadata": {},
   "outputs": [],
   "source": [
    "#linear regression\n",
    "from sklearn.linear_model import LinearRegression\n",
    "ln = LinearRegression()\n",
    "model = ln.fit(x_train,y_train)"
   ]
  },
  {
   "cell_type": "code",
   "execution_count": 26,
   "metadata": {},
   "outputs": [],
   "source": [
    "pred_y=ln.predict(x_test)"
   ]
  },
  {
   "cell_type": "code",
   "execution_count": 27,
   "metadata": {},
   "outputs": [
    {
     "data": {
      "text/html": [
       "<div>\n",
       "<style scoped>\n",
       "    .dataframe tbody tr th:only-of-type {\n",
       "        vertical-align: middle;\n",
       "    }\n",
       "\n",
       "    .dataframe tbody tr th {\n",
       "        vertical-align: top;\n",
       "    }\n",
       "\n",
       "    .dataframe thead th {\n",
       "        text-align: right;\n",
       "    }\n",
       "</style>\n",
       "<table border=\"1\" class=\"dataframe\">\n",
       "  <thead>\n",
       "    <tr style=\"text-align: right;\">\n",
       "      <th></th>\n",
       "      <th>crim</th>\n",
       "      <th>zn</th>\n",
       "      <th>indus</th>\n",
       "      <th>chas</th>\n",
       "      <th>nox</th>\n",
       "      <th>rm</th>\n",
       "      <th>age</th>\n",
       "      <th>dis</th>\n",
       "      <th>rad</th>\n",
       "      <th>tax</th>\n",
       "      <th>ptratio</th>\n",
       "      <th>b</th>\n",
       "      <th>lstat</th>\n",
       "    </tr>\n",
       "  </thead>\n",
       "  <tbody>\n",
       "    <tr>\n",
       "      <th>226</th>\n",
       "      <td>0.38214</td>\n",
       "      <td>0.0</td>\n",
       "      <td>6.2</td>\n",
       "      <td>0</td>\n",
       "      <td>0.504</td>\n",
       "      <td>8.04</td>\n",
       "      <td>86.5</td>\n",
       "      <td>3.2157</td>\n",
       "      <td>8</td>\n",
       "      <td>307</td>\n",
       "      <td>17.4</td>\n",
       "      <td>387.38</td>\n",
       "      <td>3.13</td>\n",
       "    </tr>\n",
       "  </tbody>\n",
       "</table>\n",
       "</div>"
      ],
      "text/plain": [
       "        crim   zn  indus  chas    nox    rm   age     dis  rad  tax  ptratio  \\\n",
       "226  0.38214  0.0    6.2     0  0.504  8.04  86.5  3.2157    8  307     17.4   \n",
       "\n",
       "          b  lstat  \n",
       "226  387.38   3.13  "
      ]
     },
     "execution_count": 27,
     "metadata": {},
     "output_type": "execute_result"
    }
   ],
   "source": [
    "x_test"
   ]
  },
  {
   "cell_type": "code",
   "execution_count": 28,
   "metadata": {},
   "outputs": [
    {
     "data": {
      "text/plain": [
       "array([37.5857378])"
      ]
     },
     "execution_count": 28,
     "metadata": {},
     "output_type": "execute_result"
    }
   ],
   "source": [
    "ypred=ln.predict(x_test)\n",
    "ypred"
   ]
  },
  {
   "cell_type": "code",
   "execution_count": 29,
   "metadata": {},
   "outputs": [
    {
     "data": {
      "text/plain": [
       "Text(0,0.5,'Predicted Y')"
      ]
     },
     "execution_count": 29,
     "metadata": {},
     "output_type": "execute_result"
    },
    {
     "data": {
      "image/png": "[encoded data removed]",
      "text/plain": [
       "<Figure size 432x288 with 1 Axes>"
      ]
     },
     "metadata": {},
     "output_type": "display_data"
    }
   ],
   "source": [
    "plt.scatter(y_test,pred_y)\n",
    "plt.xlabel('Y Test')\n",
    "plt.ylabel('Predicted Y')"
   ]
  },
  {
   "cell_type": "code",
   "execution_count": null,
   "metadata": {},
   "outputs": [],
   "source": []
  },
  {
   "cell_type": "code",
   "execution_count": 30,
   "metadata": {},
   "outputs": [
    {
     "data": {
      "text/plain": [
       "array([-1.08011152e-01,  4.64219227e-02,  2.05597359e-02,  2.68681158e+00,\n",
       "       -1.77663371e+01,  3.80976917e+00,  6.90036187e-04, -1.47556953e+00,\n",
       "        3.06044946e-01, -1.23344246e-02, -9.52743734e-01,  9.31164649e-03,\n",
       "       -5.24755405e-01])"
      ]
     },
     "execution_count": 30,
     "metadata": {},
     "output_type": "execute_result"
    }
   ],
   "source": [
    "ln.coef_"
   ]
  },
  {
   "cell_type": "code",
   "execution_count": 31,
   "metadata": {},
   "outputs": [
    {
     "data": {
      "text/plain": [
       "36.45992192583874"
      ]
     },
     "execution_count": 31,
     "metadata": {},
     "output_type": "execute_result"
    }
   ],
   "source": [
    "ln.intercept_"
   ]
  },
  {
   "cell_type": "code",
   "execution_count": 32,
   "metadata": {},
   "outputs": [
    {
     "data": {
      "text/plain": [
       "0.0"
      ]
     },
     "execution_count": 32,
     "metadata": {},
     "output_type": "execute_result"
    }
   ],
   "source": [
    "ln.score(x_test,y_test)"
   ]
  },
  {
   "cell_type": "code",
   "execution_count": 33,
   "metadata": {},
   "outputs": [
    {
     "data": {
      "text/plain": [
       "292    27.9\n",
       "90     22.6\n",
       "373    13.8\n",
       "273    35.2\n",
       "417    10.4\n",
       "503    23.9\n",
       "234    29.0\n",
       "111    22.8\n",
       "472    23.2\n",
       "99     33.2\n",
       "339    19.0\n",
       "309    20.3\n",
       "304    36.1\n",
       "272    24.4\n",
       "346    17.2\n",
       "412    17.9\n",
       "151    19.6\n",
       "496    19.7\n",
       "410    15.0\n",
       "490     8.1\n",
       "132    23.0\n",
       "224    44.8\n",
       "318    23.1\n",
       "284    32.2\n",
       "444    10.8\n",
       "321    23.1\n",
       "116    21.2\n",
       "333    22.2\n",
       "351    24.1\n",
       "123    17.3\n",
       "       ... \n",
       "468    19.1\n",
       "30     12.7\n",
       "431    14.1\n",
       "65     23.5\n",
       "203    48.5\n",
       "205    22.6\n",
       "44     21.2\n",
       "27     14.8\n",
       "80     28.0\n",
       "437     8.7\n",
       "113    18.7\n",
       "399     6.3\n",
       "204    50.0\n",
       "7      27.1\n",
       "208    24.4\n",
       "158    24.3\n",
       "112    18.8\n",
       "411    17.2\n",
       "446    14.9\n",
       "231    31.7\n",
       "228    46.7\n",
       "8      16.5\n",
       "73     23.4\n",
       "400     5.6\n",
       "118    20.4\n",
       "486    19.1\n",
       "189    34.9\n",
       "495    23.1\n",
       "206    24.4\n",
       "355    20.6\n",
       "Name: medv, Length: 505, dtype: float64"
      ]
     },
     "execution_count": 33,
     "metadata": {},
     "output_type": "execute_result"
    }
   ],
   "source": [
    "y_train\n"
   ]
  },
  {
   "cell_type": "code",
   "execution_count": 34,
   "metadata": {},
   "outputs": [],
   "source": [
    "x_train, x_test, y_train, y_test =train_test_split(x,y, test_size = 0.3, random_state=5) "
   ]
  },
  {
   "cell_type": "code",
   "execution_count": 35,
   "metadata": {},
   "outputs": [],
   "source": [
    "ln = LinearRegression()\n",
    "model = ln.fit(x_train,y_train)"
   ]
  },
  {
   "cell_type": "code",
   "execution_count": 36,
   "metadata": {},
   "outputs": [],
   "source": [
    "pred_y=ln.predict(x_test)"
   ]
  },
  {
   "cell_type": "code",
   "execution_count": 37,
   "metadata": {},
   "outputs": [
    {
     "data": {
      "text/plain": [
       "0.6771696999851702"
      ]
     },
     "execution_count": 37,
     "metadata": {},
     "output_type": "execute_result"
    }
   ],
   "source": [
    "ln.score(x_test,y_test)"
   ]
  },
  {
   "cell_type": "code",
   "execution_count": null,
   "metadata": {},
   "outputs": [],
   "source": []
  }
 ],
 "metadata": {
  "kernelspec": {
   "display_name": "Python 3",
   "language": "python",
   "name": "python3"
  },
  "language_info": {
   "codemirror_mode": {
    "name": "ipython",
    "version": 3
   },
   "file_extension": ".py",
   "mimetype": "text/x-python",
   "name": "python",
   "nbconvert_exporter": "python",
   "pygments_lexer": "ipython3",
   "version": "3.6.5"
  }
 },
 "nbformat": 4,
 "nbformat_minor": 2
}
